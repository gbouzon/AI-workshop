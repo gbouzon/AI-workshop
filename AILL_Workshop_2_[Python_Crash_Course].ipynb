{
  "nbformat": 4,
  "nbformat_minor": 0,
  "metadata": {
    "colab": {
      "provenance": [],
      "collapsed_sections": [],
      "toc_visible": true,
      "include_colab_link": true
    },
    "kernelspec": {
      "name": "python3",
      "display_name": "Python 3"
    }
  },
  "cells": [
    {
      "cell_type": "markdown",
      "metadata": {
        "id": "view-in-github",
        "colab_type": "text"
      },
      "source": [
        "<a href=\"https://colab.research.google.com/github/gbouzon/AI-workshop/blob/main/AILL_Workshop_2_%5BPython_Crash_Course%5D.ipynb\" target=\"_parent\"><img src=\"https://colab.research.google.com/assets/colab-badge.svg\" alt=\"Open In Colab\"/></a>"
      ]
    },
    {
      "cell_type": "markdown",
      "metadata": {
        "id": "9z3pVdyJsYQA"
      },
      "source": [
        "<center><h1> AI Launch Lab - Dawson AI Program  </h1></center>\n",
        "<center><h2> Fall - 2022 </h2></center> \n",
        "<center><h2> Workshop-2 </h2></center> \n",
        "\n",
        "<center><h3> </h3></center> \n",
        "<center><h3> Python Crash Course</h3></center> "
      ]
    },
    {
      "cell_type": "markdown",
      "metadata": {
        "id": "VY48mAXCuRa-"
      },
      "source": [
        "# Python - Introduction\n",
        "\n",
        "Python is a powerful high-level interpreted language."
      ]
    },
    {
      "cell_type": "markdown",
      "metadata": {
        "id": "8OdsY0Zvl_Li"
      },
      "source": [
        "Official Website      : https://www.python.org/  \n",
        "Official Documentation: https://docs.python.org/3/\n"
      ]
    },
    {
      "cell_type": "markdown",
      "metadata": {
        "id": "7mNfVxhpsUiX"
      },
      "source": [
        "Google Colab Environment\n"
      ]
    },
    {
      "cell_type": "code",
      "metadata": {
        "id": "Tbtsceotnlvh",
        "colab": {
          "base_uri": "https://localhost:8080/"
        },
        "outputId": "37f713ea-9e98-47e6-9464-6c70ecd54a98"
      },
      "source": [
        "!python --version"
      ],
      "execution_count": null,
      "outputs": [
        {
          "output_type": "stream",
          "text": [
            "Python 3.7.10\n"
          ],
          "name": "stdout"
        }
      ]
    },
    {
      "cell_type": "markdown",
      "metadata": {
        "id": "qgtLgu0-uplS"
      },
      "source": [
        "## Variables"
      ]
    },
    {
      "cell_type": "markdown",
      "metadata": {
        "id": "aJ0yODE9dpV6"
      },
      "source": [
        "Integers"
      ]
    },
    {
      "cell_type": "code",
      "metadata": {
        "id": "EJ4tZ5gYdrOv",
        "colab": {
          "base_uri": "https://localhost:8080/"
        },
        "outputId": "715dfd80-2fbf-47c3-cabf-890aa9bd1458"
      },
      "source": [
        "a = 1\n",
        "b = 3\n",
        "print(\"Sum, difference, division:\", a + b, a - b, a // b)"
      ],
      "execution_count": null,
      "outputs": [
        {
          "output_type": "stream",
          "text": [
            "Sum, difference, division: 4 -2 0\n"
          ],
          "name": "stdout"
        }
      ]
    },
    {
      "cell_type": "code",
      "metadata": {
        "colab": {
          "base_uri": "https://localhost:8080/"
        },
        "id": "MCkW5nzraS7Z",
        "outputId": "89d8adff-f2a5-4576-aab2-850fb759ffcc"
      },
      "source": [
        "1//3"
      ],
      "execution_count": null,
      "outputs": [
        {
          "output_type": "execute_result",
          "data": {
            "text/plain": [
              "0"
            ]
          },
          "metadata": {
            "tags": []
          },
          "execution_count": 13
        }
      ]
    },
    {
      "cell_type": "code",
      "metadata": {
        "id": "pOFuenHmrROB",
        "colab": {
          "base_uri": "https://localhost:8080/"
        },
        "outputId": "b4abc07a-f693-4915-f52f-1ea274dc38c9"
      },
      "source": [
        "b**4"
      ],
      "execution_count": null,
      "outputs": [
        {
          "output_type": "execute_result",
          "data": {
            "text/plain": [
              "81"
            ]
          },
          "metadata": {
            "tags": []
          },
          "execution_count": 14
        }
      ]
    },
    {
      "cell_type": "code",
      "metadata": {
        "id": "1SOFVuFcrs-i",
        "colab": {
          "base_uri": "https://localhost:8080/"
        },
        "outputId": "58dd8852-822e-40c0-df52-d471df51881f"
      },
      "source": [
        "f = 1.678\n",
        "f"
      ],
      "execution_count": null,
      "outputs": [
        {
          "output_type": "execute_result",
          "data": {
            "text/plain": [
              "1.678"
            ]
          },
          "metadata": {
            "tags": []
          },
          "execution_count": 15
        }
      ]
    },
    {
      "cell_type": "markdown",
      "metadata": {
        "id": "ZPpnUzuudus2"
      },
      "source": [
        "Floting point numbers"
      ]
    },
    {
      "cell_type": "code",
      "metadata": {
        "id": "oRM7cXildxrf",
        "colab": {
          "base_uri": "https://localhost:8080/"
        },
        "outputId": "8309d065-844a-4cb3-fdbf-9d78aa173c03"
      },
      "source": [
        "print(\"Floating point division:\", 4 / 2)"
      ],
      "execution_count": null,
      "outputs": [
        {
          "output_type": "stream",
          "text": [
            "Floating point division: 2.0\n"
          ],
          "name": "stdout"
        }
      ]
    },
    {
      "cell_type": "markdown",
      "metadata": {
        "id": "Q6IzYW72d2Na"
      },
      "source": [
        "Complex numbers"
      ]
    },
    {
      "cell_type": "code",
      "metadata": {
        "id": "3ooBQ-HAd4R-",
        "colab": {
          "base_uri": "https://localhost:8080/"
        },
        "outputId": "c15d56ff-9420-4ad5-cd5b-c83266e9173d"
      },
      "source": [
        "print(\"Complex numbers:\", 1.0 + 1.0j)"
      ],
      "execution_count": null,
      "outputs": [
        {
          "output_type": "stream",
          "text": [
            "Complex numbers: (1+1j)\n"
          ],
          "name": "stdout"
        }
      ]
    },
    {
      "cell_type": "markdown",
      "metadata": {
        "id": "aRtsNkxLd7AB"
      },
      "source": [
        "Booleans"
      ]
    },
    {
      "cell_type": "code",
      "metadata": {
        "id": "mzvtZ2RceARU",
        "colab": {
          "base_uri": "https://localhost:8080/"
        },
        "outputId": "4a5e2944-8f97-403b-ed00-e4207f39d5c7"
      },
      "source": [
        "a = True\n",
        "b = False\n",
        "print(\"Boolean operations:\", a or b, a and b, not a)"
      ],
      "execution_count": null,
      "outputs": [
        {
          "output_type": "stream",
          "text": [
            "Boolean operations: True False False\n"
          ],
          "name": "stdout"
        }
      ]
    },
    {
      "cell_type": "markdown",
      "metadata": {
        "id": "uVzLWAp7eCch"
      },
      "source": [
        "Strings"
      ]
    },
    {
      "cell_type": "code",
      "metadata": {
        "id": "jx9zZkzSeHH1",
        "colab": {
          "base_uri": "https://localhost:8080/"
        },
        "outputId": "2fd15378-f8af-43d4-87ee-a3ece21d8506"
      },
      "source": [
        "s = 'n'\n",
        "print(\"String:\", s)"
      ],
      "execution_count": null,
      "outputs": [
        {
          "output_type": "stream",
          "text": [
            "String: n\n"
          ],
          "name": "stdout"
        }
      ]
    },
    {
      "cell_type": "markdown",
      "metadata": {
        "id": "kgTGxeOFeLd1"
      },
      "source": [
        "Single quotes can also be used"
      ]
    },
    {
      "cell_type": "code",
      "metadata": {
        "id": "EkSoAMuJeIlX",
        "colab": {
          "base_uri": "https://localhost:8080/",
          "height": 35
        },
        "outputId": "13de172a-3428-4820-a0a1-c94419a2df11"
      },
      "source": [
        "a = 'This is a string too'\n",
        "a"
      ],
      "execution_count": null,
      "outputs": [
        {
          "output_type": "execute_result",
          "data": {
            "application/vnd.google.colaboratory.intrinsic+json": {
              "type": "string"
            },
            "text/plain": [
              "'This is a string too'"
            ]
          },
          "metadata": {
            "tags": []
          },
          "execution_count": 25
        }
      ]
    },
    {
      "cell_type": "markdown",
      "metadata": {
        "id": "IvlWLUGLePla"
      },
      "source": [
        "We can split long strings like this"
      ]
    },
    {
      "cell_type": "code",
      "metadata": {
        "id": "Kv_M49fpeS0E",
        "colab": {
          "base_uri": "https://localhost:8080/",
          "height": 35
        },
        "outputId": "0014b911-b212-4273-9bb0-eac1cfbfb4eb"
      },
      "source": [
        "a = (\"Very very very \"\n",
        "     \"long long long \"\n",
        "     \"string in Python\"\n",
        "    )\n",
        "a"
      ],
      "execution_count": null,
      "outputs": [
        {
          "output_type": "execute_result",
          "data": {
            "application/vnd.google.colaboratory.intrinsic+json": {
              "type": "string"
            },
            "text/plain": [
              "'Very very very long long long string in Python'"
            ]
          },
          "metadata": {
            "tags": []
          },
          "execution_count": 26
        }
      ]
    },
    {
      "cell_type": "markdown",
      "metadata": {
        "id": "-_UfrpwQeXi4"
      },
      "source": [
        "Or use multiline string"
      ]
    },
    {
      "cell_type": "code",
      "metadata": {
        "id": "uAMadNw5eZQ7",
        "colab": {
          "base_uri": "https://localhost:8080/",
          "height": 35
        },
        "outputId": "988cec11-68f3-4ccc-bf42-6bc096b57401"
      },
      "source": [
        "# This is a single line comment\n",
        "\n",
        "'''\n",
        "This\n",
        "is\n",
        "a multiline\n",
        "comment\n",
        "'''\n",
        "\n",
        "a = '''this\n",
        "is\n",
        "multiline \n",
        "string'''\n",
        "a"
      ],
      "execution_count": null,
      "outputs": [
        {
          "output_type": "execute_result",
          "data": {
            "application/vnd.google.colaboratory.intrinsic+json": {
              "type": "string"
            },
            "text/plain": [
              "'this\\nis\\nmultiline \\nstring'"
            ]
          },
          "metadata": {
            "tags": []
          },
          "execution_count": 27
        }
      ]
    },
    {
      "cell_type": "code",
      "metadata": {
        "id": "gcHnUKXyx3YS",
        "colab": {
          "base_uri": "https://localhost:8080/",
          "height": 129
        },
        "outputId": "ffbf327d-4750-4607-d281-c7b6ebb5489b"
      },
      "source": [
        "a = \"aaa \n",
        "ssss\""
      ],
      "execution_count": null,
      "outputs": [
        {
          "output_type": "error",
          "ename": "SyntaxError",
          "evalue": "ignored",
          "traceback": [
            "\u001b[0;36m  File \u001b[0;32m\"<ipython-input-30-1a07051896c1>\"\u001b[0;36m, line \u001b[0;32m1\u001b[0m\n\u001b[0;31m    a = \"aaa\u001b[0m\n\u001b[0m             ^\u001b[0m\n\u001b[0;31mSyntaxError\u001b[0m\u001b[0;31m:\u001b[0m EOL while scanning string literal\n"
          ]
        }
      ]
    },
    {
      "cell_type": "code",
      "metadata": {
        "id": "3scF_mioss5e",
        "colab": {
          "base_uri": "https://localhost:8080/",
          "height": 35
        },
        "outputId": "6807b44e-b542-4c76-82dc-c58c29bef4af"
      },
      "source": [
        "a = \"this \\n is \\n multiline \\n string\"\n",
        "a"
      ],
      "execution_count": null,
      "outputs": [
        {
          "output_type": "execute_result",
          "data": {
            "application/vnd.google.colaboratory.intrinsic+json": {
              "type": "string"
            },
            "text/plain": [
              "'this \\n is \\n multiline \\n string'"
            ]
          },
          "metadata": {
            "tags": []
          },
          "execution_count": 31
        }
      ]
    },
    {
      "cell_type": "markdown",
      "metadata": {
        "id": "OJXyqzJ_ehNm"
      },
      "source": [
        "String concatenation"
      ]
    },
    {
      "cell_type": "code",
      "metadata": {
        "id": "wxNX3yCOejzb",
        "colab": {
          "base_uri": "https://localhost:8080/",
          "height": 35
        },
        "outputId": "11049668-98a8-4b00-c167-c01f58b852df"
      },
      "source": [
        "\"str\" + \"ing\""
      ],
      "execution_count": null,
      "outputs": [
        {
          "output_type": "execute_result",
          "data": {
            "application/vnd.google.colaboratory.intrinsic+json": {
              "type": "string"
            },
            "text/plain": [
              "'string'"
            ]
          },
          "metadata": {
            "tags": []
          },
          "execution_count": 32
        }
      ]
    },
    {
      "cell_type": "code",
      "metadata": {
        "id": "MFb33oY8tOoP",
        "colab": {
          "base_uri": "https://localhost:8080/",
          "height": 35
        },
        "outputId": "d8d64cdd-9080-45c9-9b82-d0852c11a0a1"
      },
      "source": [
        "a = 'hello'\n",
        "b = 'world'\n",
        "c = a+b\n",
        "c"
      ],
      "execution_count": null,
      "outputs": [
        {
          "output_type": "execute_result",
          "data": {
            "application/vnd.google.colaboratory.intrinsic+json": {
              "type": "string"
            },
            "text/plain": [
              "'helloworld'"
            ]
          },
          "metadata": {
            "tags": []
          },
          "execution_count": 33
        }
      ]
    },
    {
      "cell_type": "markdown",
      "metadata": {
        "id": "gyJYt_dJepTs"
      },
      "source": [
        "Some of useful string methods:"
      ]
    },
    {
      "cell_type": "code",
      "metadata": {
        "id": "TfkggKXletFA",
        "colab": {
          "base_uri": "https://localhost:8080/"
        },
        "outputId": "4cdcd8b2-a7b9-47f2-fbdc-134e8cf0c23d"
      },
      "source": [
        "a = \"\"\n",
        "dir(a)"
      ],
      "execution_count": null,
      "outputs": [
        {
          "output_type": "execute_result",
          "data": {
            "text/plain": [
              "['__add__',\n",
              " '__class__',\n",
              " '__contains__',\n",
              " '__delattr__',\n",
              " '__dir__',\n",
              " '__doc__',\n",
              " '__eq__',\n",
              " '__format__',\n",
              " '__ge__',\n",
              " '__getattribute__',\n",
              " '__getitem__',\n",
              " '__getnewargs__',\n",
              " '__gt__',\n",
              " '__hash__',\n",
              " '__init__',\n",
              " '__init_subclass__',\n",
              " '__iter__',\n",
              " '__le__',\n",
              " '__len__',\n",
              " '__lt__',\n",
              " '__mod__',\n",
              " '__mul__',\n",
              " '__ne__',\n",
              " '__new__',\n",
              " '__reduce__',\n",
              " '__reduce_ex__',\n",
              " '__repr__',\n",
              " '__rmod__',\n",
              " '__rmul__',\n",
              " '__setattr__',\n",
              " '__sizeof__',\n",
              " '__str__',\n",
              " '__subclasshook__',\n",
              " 'capitalize',\n",
              " 'casefold',\n",
              " 'center',\n",
              " 'count',\n",
              " 'encode',\n",
              " 'endswith',\n",
              " 'expandtabs',\n",
              " 'find',\n",
              " 'format',\n",
              " 'format_map',\n",
              " 'index',\n",
              " 'isalnum',\n",
              " 'isalpha',\n",
              " 'isascii',\n",
              " 'isdecimal',\n",
              " 'isdigit',\n",
              " 'isidentifier',\n",
              " 'islower',\n",
              " 'isnumeric',\n",
              " 'isprintable',\n",
              " 'isspace',\n",
              " 'istitle',\n",
              " 'isupper',\n",
              " 'join',\n",
              " 'ljust',\n",
              " 'lower',\n",
              " 'lstrip',\n",
              " 'maketrans',\n",
              " 'partition',\n",
              " 'replace',\n",
              " 'rfind',\n",
              " 'rindex',\n",
              " 'rjust',\n",
              " 'rpartition',\n",
              " 'rsplit',\n",
              " 'rstrip',\n",
              " 'split',\n",
              " 'splitlines',\n",
              " 'startswith',\n",
              " 'strip',\n",
              " 'swapcase',\n",
              " 'title',\n",
              " 'translate',\n",
              " 'upper',\n",
              " 'zfill']"
            ]
          },
          "metadata": {
            "tags": []
          },
          "execution_count": 34
        }
      ]
    },
    {
      "cell_type": "code",
      "metadata": {
        "colab": {
          "base_uri": "https://localhost:8080/",
          "height": 35
        },
        "id": "l3JyOoLZcV1r",
        "outputId": "dc2d41c1-0fdf-4c18-c9ae-76c8256bf1f1"
      },
      "source": [
        "a = 'Q'\n",
        "a.lower()"
      ],
      "execution_count": null,
      "outputs": [
        {
          "output_type": "execute_result",
          "data": {
            "application/vnd.google.colaboratory.intrinsic+json": {
              "type": "string"
            },
            "text/plain": [
              "'q'"
            ]
          },
          "metadata": {
            "tags": []
          },
          "execution_count": 37
        }
      ]
    },
    {
      "cell_type": "code",
      "metadata": {
        "id": "MqW1uqoDv2_V",
        "colab": {
          "base_uri": "https://localhost:8080/"
        },
        "outputId": "1b6e3f82-f3a2-4586-e43c-a4970c4eb53f"
      },
      "source": [
        "a = 'string'\n",
        "type(a)"
      ],
      "execution_count": null,
      "outputs": [
        {
          "output_type": "execute_result",
          "data": {
            "text/plain": [
              "str"
            ]
          },
          "metadata": {
            "tags": []
          },
          "execution_count": 38
        }
      ]
    },
    {
      "cell_type": "code",
      "metadata": {
        "colab": {
          "base_uri": "https://localhost:8080/"
        },
        "id": "JkAFC6Accm4w",
        "outputId": "1aa7dfb2-ddda-420c-9dd6-a4c2732b1bbe"
      },
      "source": [
        "p = 1.5\n",
        "type(p)"
      ],
      "execution_count": null,
      "outputs": [
        {
          "output_type": "execute_result",
          "data": {
            "text/plain": [
              "float"
            ]
          },
          "metadata": {
            "tags": []
          },
          "execution_count": 41
        }
      ]
    },
    {
      "cell_type": "code",
      "metadata": {
        "id": "HkgLmpw6wb5H",
        "colab": {
          "base_uri": "https://localhost:8080/"
        },
        "outputId": "0661a239-9699-4b6e-edbb-d2d7bf780d0e"
      },
      "source": [
        "a.__len__()"
      ],
      "execution_count": null,
      "outputs": [
        {
          "output_type": "execute_result",
          "data": {
            "text/plain": [
              "6"
            ]
          },
          "metadata": {
            "tags": []
          },
          "execution_count": 42
        }
      ]
    },
    {
      "cell_type": "code",
      "metadata": {
        "colab": {
          "base_uri": "https://localhost:8080/",
          "height": 35
        },
        "id": "o0cgXw9Zc01M",
        "outputId": "d384780c-9ffb-4ffe-9b17-ca3f99efca40"
      },
      "source": [
        "\"\"+'1'"
      ],
      "execution_count": null,
      "outputs": [
        {
          "output_type": "execute_result",
          "data": {
            "application/vnd.google.colaboratory.intrinsic+json": {
              "type": "string"
            },
            "text/plain": [
              "'1'"
            ]
          },
          "metadata": {
            "tags": []
          },
          "execution_count": 44
        }
      ]
    },
    {
      "cell_type": "code",
      "metadata": {
        "id": "f59mF09EwwKE",
        "colab": {
          "base_uri": "https://localhost:8080/"
        },
        "outputId": "6da497a3-d723-4cac-dd59-1b3e139f352c"
      },
      "source": [
        "len(a)"
      ],
      "execution_count": null,
      "outputs": [
        {
          "output_type": "execute_result",
          "data": {
            "text/plain": [
              "6"
            ]
          },
          "metadata": {
            "tags": []
          },
          "execution_count": 45
        }
      ]
    },
    {
      "cell_type": "code",
      "metadata": {
        "id": "wTYzmQsVxBSu",
        "colab": {
          "base_uri": "https://localhost:8080/",
          "height": 35
        },
        "outputId": "de725418-a376-4f22-b8f9-10359c186592"
      },
      "source": [
        "a = 'aujourd\\'hui'\n",
        "a"
      ],
      "execution_count": null,
      "outputs": [
        {
          "output_type": "execute_result",
          "data": {
            "application/vnd.google.colaboratory.intrinsic+json": {
              "type": "string"
            },
            "text/plain": [
              "\"aujourd'hui\""
            ]
          },
          "metadata": {
            "tags": []
          },
          "execution_count": 48
        }
      ]
    },
    {
      "cell_type": "code",
      "metadata": {
        "colab": {
          "base_uri": "https://localhost:8080/",
          "height": 35
        },
        "id": "tS8962Z-dPf7",
        "outputId": "c3c8ca50-cfb2-4e2f-b51e-8377319c9c62"
      },
      "source": [
        "a = \"aujourd\\'hui\"\n",
        "a"
      ],
      "execution_count": null,
      "outputs": [
        {
          "output_type": "execute_result",
          "data": {
            "application/vnd.google.colaboratory.intrinsic+json": {
              "type": "string"
            },
            "text/plain": [
              "\"aujourd'hui\""
            ]
          },
          "metadata": {
            "tags": []
          },
          "execution_count": 49
        }
      ]
    },
    {
      "cell_type": "code",
      "metadata": {
        "id": "d_aExStzxG7j"
      },
      "source": [
        "a = '5.5\"'\n",
        "a"
      ],
      "execution_count": null,
      "outputs": []
    },
    {
      "cell_type": "markdown",
      "metadata": {
        "id": "vtQDPYB-fY7x"
      },
      "source": [
        "Try following methods: `.endswith`, `.join`, `.capitalize`"
      ]
    },
    {
      "cell_type": "code",
      "metadata": {
        "id": "7mhnwQ6Rt2-e",
        "colab": {
          "base_uri": "https://localhost:8080/"
        },
        "outputId": "f53def20-d8b5-4900-aa5b-e097abb34765"
      },
      "source": [
        "s = 'hello'\n",
        "s.endswith('l',1,3)"
      ],
      "execution_count": null,
      "outputs": [
        {
          "output_type": "execute_result",
          "data": {
            "text/plain": [
              "True"
            ]
          },
          "metadata": {
            "tags": []
          },
          "execution_count": 51
        }
      ]
    },
    {
      "cell_type": "code",
      "metadata": {
        "id": "S9dj-ZaUu5_d",
        "colab": {
          "base_uri": "https://localhost:8080/"
        },
        "outputId": "5d75bcba-5833-46c0-8544-962621f13443"
      },
      "source": [
        "'world'.endswith('ld')"
      ],
      "execution_count": null,
      "outputs": [
        {
          "output_type": "execute_result",
          "data": {
            "text/plain": [
              "True"
            ]
          },
          "metadata": {
            "tags": []
          },
          "execution_count": 52
        }
      ]
    },
    {
      "cell_type": "markdown",
      "metadata": {
        "id": "rWnykIjkfhly"
      },
      "source": [
        "String formatting"
      ]
    },
    {
      "cell_type": "code",
      "metadata": {
        "id": "PToq0omNflP2",
        "colab": {
          "base_uri": "https://localhost:8080/",
          "height": 35
        },
        "outputId": "ecb77b71-2e91-4ea1-c8f6-a1dbfa4342ec"
      },
      "source": [
        "\"This is a number {}, this is another number {}!\".format(10, 20)"
      ],
      "execution_count": null,
      "outputs": [
        {
          "output_type": "execute_result",
          "data": {
            "application/vnd.google.colaboratory.intrinsic+json": {
              "type": "string"
            },
            "text/plain": [
              "'This is a number 10, this is another number 20!'"
            ]
          },
          "metadata": {
            "tags": []
          },
          "execution_count": 53
        }
      ]
    },
    {
      "cell_type": "markdown",
      "metadata": {
        "id": "WgYzAHHSf00K"
      },
      "source": [
        "You can specify how number is formatted"
      ]
    },
    {
      "cell_type": "code",
      "metadata": {
        "id": "zGGlXdZQuKnG",
        "colab": {
          "base_uri": "https://localhost:8080/",
          "height": 35
        },
        "outputId": "5f8b9ee8-b32d-45d3-ed51-20fd6d6e5fff"
      },
      "source": [
        "\"This is pi {:0.2f}!\".format(3.1415)"
      ],
      "execution_count": null,
      "outputs": [
        {
          "output_type": "execute_result",
          "data": {
            "application/vnd.google.colaboratory.intrinsic+json": {
              "type": "string"
            },
            "text/plain": [
              "'This is pi 3.14!'"
            ]
          },
          "metadata": {
            "tags": []
          },
          "execution_count": 54
        }
      ]
    },
    {
      "cell_type": "markdown",
      "metadata": {
        "id": "e2UqKCEDf4n9"
      },
      "source": [
        "Format strings look like this"
      ]
    },
    {
      "cell_type": "code",
      "metadata": {
        "id": "vao_Xk17f_BP",
        "colab": {
          "base_uri": "https://localhost:8080/",
          "height": 35
        },
        "outputId": "f7a83788-b718-4b43-c8a5-20381b697c20"
      },
      "source": [
        "f\"This is sum of 2 and 3: {2 + 3}\""
      ],
      "execution_count": null,
      "outputs": [
        {
          "output_type": "execute_result",
          "data": {
            "application/vnd.google.colaboratory.intrinsic+json": {
              "type": "string"
            },
            "text/plain": [
              "'This is sum of 2 and 3: 5'"
            ]
          },
          "metadata": {
            "tags": []
          },
          "execution_count": 55
        }
      ]
    },
    {
      "cell_type": "markdown",
      "metadata": {
        "id": "yDBje-obvc9B"
      },
      "source": [
        "## Basic Data Structures\n",
        "\n",
        "Lists are designed to store a number of ordered values."
      ]
    },
    {
      "cell_type": "markdown",
      "metadata": {
        "id": "qZp9Hx-9hIRC"
      },
      "source": [
        "### List"
      ]
    },
    {
      "cell_type": "markdown",
      "metadata": {
        "id": "I0b66boVRtv9"
      },
      "source": [
        " <img src=\"https://cdn.programiz.com/sites/tutorial2program/files/python-list-index.png\" width=\"500\" height=\"200\">"
      ]
    },
    {
      "cell_type": "code",
      "metadata": {
        "id": "iEO10YjSgEiP",
        "colab": {
          "base_uri": "https://localhost:8080/"
        },
        "outputId": "f53f7050-a254-4fc1-d307-0c4de7b36602"
      },
      "source": [
        "array = [1, 4, 2, 3, 8, 7, 6, 5]\n",
        "array"
      ],
      "execution_count": null,
      "outputs": [
        {
          "output_type": "execute_result",
          "data": {
            "text/plain": [
              "[1, 4, 2, 3, 8, 7, 6, 5]"
            ]
          },
          "metadata": {
            "tags": []
          },
          "execution_count": 56
        }
      ]
    },
    {
      "cell_type": "code",
      "metadata": {
        "id": "kcZjuos1ypOq",
        "colab": {
          "base_uri": "https://localhost:8080/"
        },
        "outputId": "287c903a-89c9-438e-9c37-ae3e22237205"
      },
      "source": [
        "type(array)"
      ],
      "execution_count": null,
      "outputs": [
        {
          "output_type": "execute_result",
          "data": {
            "text/plain": [
              "list"
            ]
          },
          "metadata": {
            "tags": []
          },
          "execution_count": 57
        }
      ]
    },
    {
      "cell_type": "code",
      "metadata": {
        "colab": {
          "base_uri": "https://localhost:8080/"
        },
        "id": "VxcGSGxzelgK",
        "outputId": "fb59681b-7d09-4419-b120-4c94c9a393d9"
      },
      "source": [
        "dir(array)"
      ],
      "execution_count": null,
      "outputs": [
        {
          "output_type": "execute_result",
          "data": {
            "text/plain": [
              "['__add__',\n",
              " '__class__',\n",
              " '__contains__',\n",
              " '__delattr__',\n",
              " '__delitem__',\n",
              " '__dir__',\n",
              " '__doc__',\n",
              " '__eq__',\n",
              " '__format__',\n",
              " '__ge__',\n",
              " '__getattribute__',\n",
              " '__getitem__',\n",
              " '__gt__',\n",
              " '__hash__',\n",
              " '__iadd__',\n",
              " '__imul__',\n",
              " '__init__',\n",
              " '__init_subclass__',\n",
              " '__iter__',\n",
              " '__le__',\n",
              " '__len__',\n",
              " '__lt__',\n",
              " '__mul__',\n",
              " '__ne__',\n",
              " '__new__',\n",
              " '__reduce__',\n",
              " '__reduce_ex__',\n",
              " '__repr__',\n",
              " '__reversed__',\n",
              " '__rmul__',\n",
              " '__setattr__',\n",
              " '__setitem__',\n",
              " '__sizeof__',\n",
              " '__str__',\n",
              " '__subclasshook__',\n",
              " 'append',\n",
              " 'clear',\n",
              " 'copy',\n",
              " 'count',\n",
              " 'extend',\n",
              " 'index',\n",
              " 'insert',\n",
              " 'pop',\n",
              " 'remove',\n",
              " 'reverse',\n",
              " 'sort']"
            ]
          },
          "metadata": {
            "tags": []
          },
          "execution_count": 58
        }
      ]
    },
    {
      "cell_type": "code",
      "metadata": {
        "colab": {
          "base_uri": "https://localhost:8080/"
        },
        "id": "Vi3tNtDYgvVI",
        "outputId": "54761da7-2175-4bcc-92a4-acd04b822680"
      },
      "source": [
        "array.insert(6,'*')\n",
        "array"
      ],
      "execution_count": null,
      "outputs": [
        {
          "output_type": "execute_result",
          "data": {
            "text/plain": [
              "[1, 4, 2, 3, 8, 7, '*', 6, 5]"
            ]
          },
          "metadata": {
            "tags": []
          },
          "execution_count": 75
        }
      ]
    },
    {
      "cell_type": "code",
      "metadata": {
        "colab": {
          "base_uri": "https://localhost:8080/"
        },
        "id": "t3ZE4XsHexrP",
        "outputId": "099356e3-5eed-4740-d75b-bf35cfd7476a"
      },
      "source": [
        "array"
      ],
      "execution_count": null,
      "outputs": [
        {
          "output_type": "execute_result",
          "data": {
            "text/plain": [
              "[1, 4, 2, 3, 8, 7, 6, 5]"
            ]
          },
          "metadata": {
            "tags": []
          },
          "execution_count": 59
        }
      ]
    },
    {
      "cell_type": "code",
      "metadata": {
        "id": "uZj9OCcBey5p"
      },
      "source": [
        "array.reverse()"
      ],
      "execution_count": null,
      "outputs": []
    },
    {
      "cell_type": "code",
      "metadata": {
        "colab": {
          "base_uri": "https://localhost:8080/"
        },
        "id": "7x1qirkle2JU",
        "outputId": "cc816a63-7f67-4039-9d44-a56958853e13"
      },
      "source": [
        "array"
      ],
      "execution_count": null,
      "outputs": [
        {
          "output_type": "execute_result",
          "data": {
            "text/plain": [
              "[5, 6, 7, 8, 3, 2, 4, 1]"
            ]
          },
          "metadata": {
            "tags": []
          },
          "execution_count": 61
        }
      ]
    },
    {
      "cell_type": "markdown",
      "metadata": {
        "id": "OafZcfQLgIik"
      },
      "source": [
        "Addressing list by index"
      ]
    },
    {
      "cell_type": "code",
      "metadata": {
        "id": "vTBtlmzlgQUN",
        "colab": {
          "base_uri": "https://localhost:8080/"
        },
        "outputId": "8fca03be-aeef-4d2e-e0dd-ee20fb5f97f4"
      },
      "source": [
        "array[1]"
      ],
      "execution_count": null,
      "outputs": [
        {
          "output_type": "execute_result",
          "data": {
            "text/plain": [
              "6"
            ]
          },
          "metadata": {
            "tags": []
          },
          "execution_count": 62
        }
      ]
    },
    {
      "cell_type": "code",
      "metadata": {
        "id": "8CdaBiCJy6jP",
        "colab": {
          "base_uri": "https://localhost:8080/"
        },
        "outputId": "7e811a45-d3e6-45d1-efd2-d5795ca9a444"
      },
      "source": [
        "type(array[1])"
      ],
      "execution_count": null,
      "outputs": [
        {
          "output_type": "execute_result",
          "data": {
            "text/plain": [
              "int"
            ]
          },
          "metadata": {
            "tags": []
          },
          "execution_count": 63
        }
      ]
    },
    {
      "cell_type": "markdown",
      "metadata": {
        "id": "Sc-anm1NgS25"
      },
      "source": [
        "Slice is a sub-sequence of a list"
      ]
    },
    {
      "cell_type": "code",
      "metadata": {
        "id": "tBZ0HPHLgeDc",
        "colab": {
          "base_uri": "https://localhost:8080/"
        },
        "outputId": "740719e3-2056-4dc6-b2fa-ad97692df921"
      },
      "source": [
        "array[1:5]"
      ],
      "execution_count": null,
      "outputs": [
        {
          "output_type": "execute_result",
          "data": {
            "text/plain": [
              "[6, 7, 8, 3]"
            ]
          },
          "metadata": {
            "tags": []
          },
          "execution_count": 64
        }
      ]
    },
    {
      "cell_type": "code",
      "metadata": {
        "id": "150a3I-0zMfs",
        "colab": {
          "base_uri": "https://localhost:8080/"
        },
        "outputId": "b73455c1-6fae-414d-8251-3efe5a2bcaf3"
      },
      "source": [
        "type(array[1:5])"
      ],
      "execution_count": null,
      "outputs": [
        {
          "output_type": "execute_result",
          "data": {
            "text/plain": [
              "list"
            ]
          },
          "metadata": {
            "tags": []
          },
          "execution_count": 65
        }
      ]
    },
    {
      "cell_type": "markdown",
      "metadata": {
        "id": "Dgp-CaJigiXM"
      },
      "source": [
        "End-less slices take either prefix"
      ]
    },
    {
      "cell_type": "code",
      "metadata": {
        "id": "0FU3YcmKgmWG",
        "colab": {
          "base_uri": "https://localhost:8080/"
        },
        "outputId": "a4b3ccad-8120-4d30-c555-016817ac47c4"
      },
      "source": [
        "array[:5]"
      ],
      "execution_count": null,
      "outputs": [
        {
          "output_type": "execute_result",
          "data": {
            "text/plain": [
              "[5, 6, 7, 8, 3]"
            ]
          },
          "metadata": {
            "tags": []
          },
          "execution_count": 66
        }
      ]
    },
    {
      "cell_type": "markdown",
      "metadata": {
        "id": "L3LzQHZugpJh"
      },
      "source": [
        "or suffix"
      ]
    },
    {
      "cell_type": "code",
      "metadata": {
        "id": "2ND4QRgggqbV",
        "colab": {
          "base_uri": "https://localhost:8080/"
        },
        "outputId": "c891d9b8-81c3-423d-9d3a-15f2ab334bf1"
      },
      "source": [
        "array[5:]"
      ],
      "execution_count": null,
      "outputs": [
        {
          "output_type": "execute_result",
          "data": {
            "text/plain": [
              "[2, 4, 1]"
            ]
          },
          "metadata": {
            "tags": []
          },
          "execution_count": 67
        }
      ]
    },
    {
      "cell_type": "markdown",
      "metadata": {
        "id": "BJUoxAf5gugb"
      },
      "source": [
        "Third argument to the slice is the step size"
      ]
    },
    {
      "cell_type": "code",
      "metadata": {
        "id": "8AU5C2aZgxs-",
        "colab": {
          "base_uri": "https://localhost:8080/"
        },
        "outputId": "1ac9437d-2fa1-4260-dd7b-cab010c66b7b"
      },
      "source": [
        "array = [1, 4, 2, 3, 8, 7, 6, 5]\n",
        "array[2:7:2]"
      ],
      "execution_count": null,
      "outputs": [
        {
          "output_type": "execute_result",
          "data": {
            "text/plain": [
              "[2, 8, 6]"
            ]
          },
          "metadata": {
            "tags": []
          },
          "execution_count": 70
        }
      ]
    },
    {
      "cell_type": "markdown",
      "metadata": {
        "id": "UFoYM9Vtg33H"
      },
      "source": [
        "Lists may contain values of different types"
      ]
    },
    {
      "cell_type": "code",
      "metadata": {
        "id": "sgHBH0SAvcYB",
        "colab": {
          "base_uri": "https://localhost:8080/"
        },
        "outputId": "3c269d54-b326-4362-9377-f6f40371da12"
      },
      "source": [
        "len([1, 1e-8, \"Hello\", [9, 8]])"
      ],
      "execution_count": null,
      "outputs": [
        {
          "output_type": "execute_result",
          "data": {
            "text/plain": [
              "4"
            ]
          },
          "metadata": {
            "tags": []
          },
          "execution_count": 71
        }
      ]
    },
    {
      "cell_type": "code",
      "metadata": {
        "id": "wo1HR_w50Enu",
        "colab": {
          "base_uri": "https://localhost:8080/"
        },
        "outputId": "9ab73e87-43ac-4e81-e4ff-d8e5409f1852"
      },
      "source": [
        "1e-2"
      ],
      "execution_count": null,
      "outputs": [
        {
          "output_type": "execute_result",
          "data": {
            "text/plain": [
              "0.01"
            ]
          },
          "metadata": {
            "tags": []
          },
          "execution_count": 74
        }
      ]
    },
    {
      "cell_type": "code",
      "metadata": {
        "colab": {
          "base_uri": "https://localhost:8080/"
        },
        "id": "2IpohA_6hJs4",
        "outputId": "faa7c599-a015-40e7-b1e3-dcda3140dccc"
      },
      "source": [
        "array"
      ],
      "execution_count": null,
      "outputs": [
        {
          "output_type": "execute_result",
          "data": {
            "text/plain": [
              "[1, 4, 2, 3, 8, 7, '*', 6, 5]"
            ]
          },
          "metadata": {
            "tags": []
          },
          "execution_count": 76
        }
      ]
    },
    {
      "cell_type": "code",
      "metadata": {
        "colab": {
          "base_uri": "https://localhost:8080/"
        },
        "id": "DmI8b5vrhKzZ",
        "outputId": "e5f7aeca-bb45-4327-deb3-736fc1e02323"
      },
      "source": [
        "array.remove('*')\n",
        "array"
      ],
      "execution_count": null,
      "outputs": [
        {
          "output_type": "execute_result",
          "data": {
            "text/plain": [
              "[1, 4, 2, 3, 8, 7, 6, 5]"
            ]
          },
          "metadata": {
            "tags": []
          },
          "execution_count": 77
        }
      ]
    },
    {
      "cell_type": "markdown",
      "metadata": {
        "id": "DeT7wZa3Vmwm"
      },
      "source": [
        "#### 2D List - Nested List (or) List of list "
      ]
    },
    {
      "cell_type": "code",
      "metadata": {
        "id": "uAvqcaM9Vm5I",
        "colab": {
          "base_uri": "https://localhost:8080/"
        },
        "outputId": "d1a6bef3-3564-42f2-8d2f-d457f54061d7"
      },
      "source": [
        "a = [[1, 2, 3], [4, 5, 6]]\n",
        "a"
      ],
      "execution_count": null,
      "outputs": [
        {
          "output_type": "execute_result",
          "data": {
            "text/plain": [
              "[[1, 2, 3], [4, 5, 6]]"
            ]
          },
          "metadata": {
            "tags": []
          },
          "execution_count": 78
        }
      ]
    },
    {
      "cell_type": "code",
      "metadata": {
        "id": "lWMYsUUwVzZb",
        "colab": {
          "base_uri": "https://localhost:8080/"
        },
        "outputId": "f5954a05-6a7b-409a-884a-bbadf78a8b9b"
      },
      "source": [
        "print(a[0])\n",
        "print(a[1])"
      ],
      "execution_count": null,
      "outputs": [
        {
          "output_type": "stream",
          "text": [
            "[1, 2, 3]\n",
            "[4, 5, 6]\n"
          ],
          "name": "stdout"
        }
      ]
    },
    {
      "cell_type": "code",
      "metadata": {
        "id": "Iu7uS_IBV_vb",
        "colab": {
          "base_uri": "https://localhost:8080/"
        },
        "outputId": "48db237c-0dc7-4493-a939-a5a24fa18c1a"
      },
      "source": [
        "b = a[0]\n",
        "print(\"b = \", b)\n",
        "print(\"a[0][2] = \",a[0][2])"
      ],
      "execution_count": null,
      "outputs": [
        {
          "output_type": "stream",
          "text": [
            "b =  [1, 2, 3]\n",
            "a[0][2] =  3\n"
          ],
          "name": "stdout"
        }
      ]
    },
    {
      "cell_type": "code",
      "metadata": {
        "id": "myqzqhSdV_4T",
        "colab": {
          "base_uri": "https://localhost:8080/"
        },
        "outputId": "67f2a2c7-3f31-4fbe-b270-d7aa2cbdfc96"
      },
      "source": [
        "a[0][1] = 7\n",
        "print(\"a = \",a)\n",
        "print(\"b = \",b)"
      ],
      "execution_count": null,
      "outputs": [
        {
          "output_type": "stream",
          "text": [
            "a =  [[1, 7, 3], [4, 5, 6]]\n",
            "b =  [1, 7, 3]\n"
          ],
          "name": "stdout"
        }
      ]
    },
    {
      "cell_type": "code",
      "metadata": {
        "id": "6bVt0-CbV__u",
        "colab": {
          "base_uri": "https://localhost:8080/"
        },
        "outputId": "6b12fe81-f274-4185-b261-b71120bc18ff"
      },
      "source": [
        "b[2] = 9\n",
        "print(\"a[0] =\",a[0])\n",
        "print(\"b = \",b)"
      ],
      "execution_count": null,
      "outputs": [
        {
          "output_type": "stream",
          "text": [
            "a[0] = [1, 7, 9]\n",
            "b =  [1, 7, 9]\n"
          ],
          "name": "stdout"
        }
      ]
    },
    {
      "cell_type": "markdown",
      "metadata": {
        "id": "TS28-FRgWquT"
      },
      "source": [
        "Iterating through the 2D List"
      ]
    },
    {
      "cell_type": "code",
      "metadata": {
        "id": "WKUDvq6WWAFA",
        "colab": {
          "base_uri": "https://localhost:8080/"
        },
        "outputId": "5ac3c1fa-7f65-42d1-abde-c8fdcbd0c427"
      },
      "source": [
        "a = [[1, 2, 3, 4], [5, 6], [7, 8, 9]]\n",
        "for i in range(len(a)):\n",
        "    for j in range(len(a[i])):\n",
        "        print(a[i][j], end=' ')\n",
        "    print()"
      ],
      "execution_count": null,
      "outputs": [
        {
          "output_type": "stream",
          "text": [
            "1 2 3 4 \n",
            "5 6 \n",
            "7 8 9 \n"
          ],
          "name": "stdout"
        }
      ]
    },
    {
      "cell_type": "markdown",
      "metadata": {
        "id": "SPP1Cyajwpfa"
      },
      "source": [
        "### Maps\n",
        "Maps (dictionaries) can store relations between pairs of values"
      ]
    },
    {
      "cell_type": "markdown",
      "metadata": {
        "id": "45E0-DV_SRLQ"
      },
      "source": [
        "<img src='https://www.learnbyexample.org/wp-content/uploads/python/Dictionary-Key-Value-Pairs-Illustration.png'>"
      ]
    },
    {
      "cell_type": "code",
      "metadata": {
        "id": "E9B-8IZ2hVJo"
      },
      "source": [
        "m = {\"height\": 100.0, \n",
        "     \"width\": 20.,\n",
        "     \"depth\": 10.}\n",
        "m"
      ],
      "execution_count": null,
      "outputs": []
    },
    {
      "cell_type": "code",
      "metadata": {
        "id": "gj2BsmKn0s42"
      },
      "source": [
        "dict(height=100.,weight=50)"
      ],
      "execution_count": null,
      "outputs": []
    },
    {
      "cell_type": "markdown",
      "metadata": {
        "id": "_sJCy0_chf3h"
      },
      "source": [
        "Retrieving value by key"
      ]
    },
    {
      "cell_type": "code",
      "metadata": {
        "id": "RyqblTcihk4i"
      },
      "source": [
        "m[\"width\"]"
      ],
      "execution_count": null,
      "outputs": []
    },
    {
      "cell_type": "markdown",
      "metadata": {
        "id": "GaRxKo1qhmca"
      },
      "source": [
        "Checking that a map contains a key"
      ]
    },
    {
      "cell_type": "code",
      "metadata": {
        "id": "WqOa9VOZh1OA"
      },
      "source": [
        "\"depth\" in m"
      ],
      "execution_count": null,
      "outputs": []
    },
    {
      "cell_type": "markdown",
      "metadata": {
        "id": "s5Zeyapsh6Go"
      },
      "source": [
        "Add a new key-value pair"
      ]
    },
    {
      "cell_type": "code",
      "metadata": {
        "id": "O7iSJmrah-C1"
      },
      "source": [
        "m[\"name\"] = \"rectangle\""
      ],
      "execution_count": null,
      "outputs": []
    },
    {
      "cell_type": "code",
      "metadata": {
        "id": "OznFu8XX1RpH"
      },
      "source": [
        "m"
      ],
      "execution_count": null,
      "outputs": []
    },
    {
      "cell_type": "markdown",
      "metadata": {
        "id": "ILJJI_GFiBOy"
      },
      "source": [
        "Or change existing value"
      ]
    },
    {
      "cell_type": "code",
      "metadata": {
        "id": "PMGZPVR3iDcN"
      },
      "source": [
        "m[\"name\"] = \"RECTANGLE\"\n",
        "m"
      ],
      "execution_count": null,
      "outputs": []
    },
    {
      "cell_type": "markdown",
      "metadata": {
        "id": "0R5Wm0sFiFlp"
      },
      "source": [
        "Remove key/value"
      ]
    },
    {
      "cell_type": "code",
      "metadata": {
        "id": "-cMBVYYEiHNT"
      },
      "source": [
        "m.pop(\"name\")"
      ],
      "execution_count": null,
      "outputs": []
    },
    {
      "cell_type": "code",
      "metadata": {
        "id": "LehA_qdI1dth"
      },
      "source": [
        "m.keys()"
      ],
      "execution_count": null,
      "outputs": []
    },
    {
      "cell_type": "code",
      "metadata": {
        "id": "bhEWTQ1nIN3w"
      },
      "source": [
        "m"
      ],
      "execution_count": null,
      "outputs": []
    },
    {
      "cell_type": "markdown",
      "metadata": {
        "id": "kdYzR2X0zWNE"
      },
      "source": [
        "### Tuples\n",
        "Tuples are similar to lists but are immutable -- they cannot be altered."
      ]
    },
    {
      "cell_type": "code",
      "metadata": {
        "id": "yJSXyvBqzBnc"
      },
      "source": [
        "my_array = [1, 2, 3]\n",
        "my_tuple = (1, 2, 3)\n",
        "\n",
        "# This is OK\n",
        "my_array[0] = 100\n",
        "\n",
        "# This will raise an exception\n",
        "my_tuple[0] = 100"
      ],
      "execution_count": null,
      "outputs": []
    },
    {
      "cell_type": "code",
      "metadata": {
        "id": "9bOk1MZa1uP3"
      },
      "source": [
        "my_tuple[0] == 100"
      ],
      "execution_count": null,
      "outputs": []
    },
    {
      "cell_type": "code",
      "metadata": {
        "id": "wmRzWy-rIpyG"
      },
      "source": [
        "a = (1, 2)\n",
        "b = (3, 4)\n",
        "(1, 2) + (3, 4)"
      ],
      "execution_count": null,
      "outputs": []
    },
    {
      "cell_type": "markdown",
      "metadata": {
        "id": "IBeeqq6u1EP9"
      },
      "source": [
        "### Sets\n",
        "Sets are unordered collections that support fast search, insertion, deletion and union."
      ]
    },
    {
      "cell_type": "code",
      "metadata": {
        "id": "I1aeG-bFzuL1",
        "colab": {
          "base_uri": "https://localhost:8080/"
        },
        "outputId": "8fe0b49b-a69b-45d2-a87a-c35c2de4ba00"
      },
      "source": [
        "animals = {\"cat\", \"dog\", \"elephant\"}\n",
        "animals"
      ],
      "execution_count": null,
      "outputs": [
        {
          "output_type": "execute_result",
          "data": {
            "text/plain": [
              "{'cat', 'dog', 'elephant'}"
            ]
          },
          "metadata": {
            "tags": []
          },
          "execution_count": 84
        }
      ]
    },
    {
      "cell_type": "markdown",
      "metadata": {
        "id": "IKTFuoVCiU4U"
      },
      "source": [
        "Check that element is in set"
      ]
    },
    {
      "cell_type": "code",
      "metadata": {
        "id": "M2SRdoJ9iZkt",
        "colab": {
          "base_uri": "https://localhost:8080/"
        },
        "outputId": "dd431bcf-9318-40fe-8238-ad1d8fb0dbca"
      },
      "source": [
        "\"cat\" in animals"
      ],
      "execution_count": null,
      "outputs": [
        {
          "output_type": "execute_result",
          "data": {
            "text/plain": [
              "True"
            ]
          },
          "metadata": {
            "tags": []
          },
          "execution_count": 85
        }
      ]
    },
    {
      "cell_type": "markdown",
      "metadata": {
        "id": "IMPig3GCidQP"
      },
      "source": [
        "Perform set operations: union, intersection, etc"
      ]
    },
    {
      "cell_type": "code",
      "metadata": {
        "id": "zX06oDPPihJY",
        "colab": {
          "base_uri": "https://localhost:8080/"
        },
        "outputId": "55419934-6e08-4549-c771-ed5a8d40e7ae"
      },
      "source": [
        "animals.union({\"zebra\", \"llama\"})"
      ],
      "execution_count": null,
      "outputs": [
        {
          "output_type": "execute_result",
          "data": {
            "text/plain": [
              "{'cat', 'dog', 'elephant', 'llama', 'zebra'}"
            ]
          },
          "metadata": {
            "tags": []
          },
          "execution_count": 86
        }
      ]
    },
    {
      "cell_type": "code",
      "metadata": {
        "colab": {
          "base_uri": "https://localhost:8080/"
        },
        "id": "vwpgfty3i6XD",
        "outputId": "669e0b34-2aed-4137-da6c-7e4bc939575d"
      },
      "source": [
        "animals.union({1})"
      ],
      "execution_count": null,
      "outputs": [
        {
          "output_type": "execute_result",
          "data": {
            "text/plain": [
              "{1, 'cat', 'dog', 'elephant'}"
            ]
          },
          "metadata": {
            "tags": []
          },
          "execution_count": 87
        }
      ]
    },
    {
      "cell_type": "code",
      "metadata": {
        "colab": {
          "base_uri": "https://localhost:8080/"
        },
        "id": "BnBBF2GZjrHN",
        "outputId": "6fa5316c-0a50-4ebd-ccc3-6a6eb6debd48"
      },
      "source": [
        "type(animals)"
      ],
      "execution_count": null,
      "outputs": [
        {
          "output_type": "execute_result",
          "data": {
            "text/plain": [
              "set"
            ]
          },
          "metadata": {
            "tags": []
          },
          "execution_count": 93
        }
      ]
    },
    {
      "cell_type": "markdown",
      "metadata": {
        "id": "do27WDEZ1rKc"
      },
      "source": [
        "## Control flow"
      ]
    },
    {
      "cell_type": "markdown",
      "metadata": {
        "id": "ZRLfl1pTkw8w"
      },
      "source": [
        "Branching"
      ]
    },
    {
      "cell_type": "code",
      "metadata": {
        "id": "6RNIP5pmk0a9",
        "colab": {
          "base_uri": "https://localhost:8080/"
        },
        "outputId": "ac872604-02d3-40a9-da93-1240f8e608c1"
      },
      "source": [
        "a = int(input())\n",
        "if a > 6:\n",
        "    print(\"a is greater than 6\")\n",
        "elif a < 3:\n",
        "    print(\"a is less than 3\")\n",
        "else:\n",
        "    print(\"a is between 3 and 6\")"
      ],
      "execution_count": null,
      "outputs": [
        {
          "output_type": "stream",
          "text": [
            "4\n",
            "a is between 3 and 6\n"
          ],
          "name": "stdout"
        }
      ]
    },
    {
      "cell_type": "markdown",
      "metadata": {
        "id": "iF11czrvk9Ve"
      },
      "source": [
        "Loops"
      ]
    },
    {
      "cell_type": "code",
      "metadata": {
        "colab": {
          "base_uri": "https://localhost:8080/"
        },
        "id": "Vw83LFkPjxzP",
        "outputId": "d9247c34-db2f-4b1d-814e-4f32454cdf0c"
      },
      "source": [
        "for i in range(5): # 0,1,2,3,4  = 0:5\n",
        "    print(i)"
      ],
      "execution_count": null,
      "outputs": [
        {
          "output_type": "stream",
          "text": [
            "0\n",
            "1\n",
            "2\n",
            "3\n",
            "4\n"
          ],
          "name": "stdout"
        }
      ]
    },
    {
      "cell_type": "code",
      "metadata": {
        "id": "0FKPTPIklBuR",
        "colab": {
          "base_uri": "https://localhost:8080/"
        },
        "outputId": "9b03dd63-c2a7-44e8-dc06-6aad712d475b"
      },
      "source": [
        "for i, j in enumerate([\"cat\", \"dog\"]):\n",
        "    print(i, j)"
      ],
      "execution_count": null,
      "outputs": [
        {
          "output_type": "stream",
          "text": [
            "0 cat\n",
            "1 dog\n"
          ],
          "name": "stdout"
        }
      ]
    },
    {
      "cell_type": "code",
      "metadata": {
        "colab": {
          "base_uri": "https://localhost:8080/"
        },
        "id": "DjVKTHItkbP0",
        "outputId": "bcb8d89d-c682-4f14-9af5-69e9007fe9c3"
      },
      "source": [
        "for i in array:\n",
        "  print(i)"
      ],
      "execution_count": null,
      "outputs": [
        {
          "output_type": "stream",
          "text": [
            "1\n",
            "4\n",
            "2\n",
            "3\n",
            "8\n",
            "7\n",
            "6\n",
            "5\n"
          ],
          "name": "stdout"
        }
      ]
    },
    {
      "cell_type": "markdown",
      "metadata": {
        "id": "WC3CQ6LOlE2K"
      },
      "source": [
        "Useful functions for looping:\n",
        "- `range`\n",
        "- `enumerate`\n",
        "- `zip`"
      ]
    },
    {
      "cell_type": "markdown",
      "metadata": {
        "id": "DEXi6o3KlSTw"
      },
      "source": [
        "Iterating a dictionary"
      ]
    },
    {
      "cell_type": "code",
      "metadata": {
        "id": "l4j34y5klVQD",
        "colab": {
          "base_uri": "https://localhost:8080/",
          "height": 229
        },
        "outputId": "7fa744a2-bb8d-4bd7-a8bb-4690f8ef7439"
      },
      "source": [
        "for k, v in m.items():\n",
        "    print(k, v)\n",
        "    if k == \"width\":\n",
        "        continue\n",
        "    # long processing\n",
        "    print(\"again\", v)"
      ],
      "execution_count": null,
      "outputs": [
        {
          "output_type": "error",
          "ename": "NameError",
          "evalue": "ignored",
          "traceback": [
            "\u001b[0;31m---------------------------------------------------------------------------\u001b[0m",
            "\u001b[0;31mNameError\u001b[0m                                 Traceback (most recent call last)",
            "\u001b[0;32m<ipython-input-97-65cf49509e21>\u001b[0m in \u001b[0;36m<module>\u001b[0;34m()\u001b[0m\n\u001b[0;32m----> 1\u001b[0;31m \u001b[0;32mfor\u001b[0m \u001b[0mk\u001b[0m\u001b[0;34m,\u001b[0m \u001b[0mv\u001b[0m \u001b[0;32min\u001b[0m \u001b[0mm\u001b[0m\u001b[0;34m.\u001b[0m\u001b[0mitems\u001b[0m\u001b[0;34m(\u001b[0m\u001b[0;34m)\u001b[0m\u001b[0;34m:\u001b[0m\u001b[0;34m\u001b[0m\u001b[0;34m\u001b[0m\u001b[0m\n\u001b[0m\u001b[1;32m      2\u001b[0m     \u001b[0mprint\u001b[0m\u001b[0;34m(\u001b[0m\u001b[0mk\u001b[0m\u001b[0;34m,\u001b[0m \u001b[0mv\u001b[0m\u001b[0;34m)\u001b[0m\u001b[0;34m\u001b[0m\u001b[0;34m\u001b[0m\u001b[0m\n\u001b[1;32m      3\u001b[0m     \u001b[0;32mif\u001b[0m \u001b[0mk\u001b[0m \u001b[0;34m==\u001b[0m \u001b[0;34m\"width\"\u001b[0m\u001b[0;34m:\u001b[0m\u001b[0;34m\u001b[0m\u001b[0;34m\u001b[0m\u001b[0m\n\u001b[1;32m      4\u001b[0m         \u001b[0;32mcontinue\u001b[0m\u001b[0;34m\u001b[0m\u001b[0;34m\u001b[0m\u001b[0m\n\u001b[1;32m      5\u001b[0m     \u001b[0;31m# long processing\u001b[0m\u001b[0;34m\u001b[0m\u001b[0;34m\u001b[0m\u001b[0;34m\u001b[0m\u001b[0m\n",
            "\u001b[0;31mNameError\u001b[0m: name 'm' is not defined"
          ]
        }
      ]
    },
    {
      "cell_type": "markdown",
      "metadata": {
        "id": "_82guvm2lb4Y"
      },
      "source": [
        "While loop"
      ]
    },
    {
      "cell_type": "code",
      "metadata": {
        "id": "_xAlRHDNlcsV",
        "colab": {
          "base_uri": "https://localhost:8080/"
        },
        "outputId": "2f41f8fa-4d95-4601-8333-6603eafd0e71"
      },
      "source": [
        "stop = False\n",
        "i = 10\n",
        "while not stop:\n",
        "    i += 1\n",
        "    if i % 10 == 0:\n",
        "        stop = True\n",
        "        \n",
        "print(i)"
      ],
      "execution_count": null,
      "outputs": [
        {
          "output_type": "stream",
          "text": [
            "20\n"
          ],
          "name": "stdout"
        }
      ]
    },
    {
      "cell_type": "markdown",
      "metadata": {
        "id": "Hr1sBDl6NBCt"
      },
      "source": [
        "## Functions"
      ]
    },
    {
      "cell_type": "markdown",
      "metadata": {
        "id": "GnLRc_CKxFsf"
      },
      "source": [
        "Defining functions"
      ]
    },
    {
      "cell_type": "code",
      "metadata": {
        "id": "TZJF3UL2M7fg",
        "colab": {
          "base_uri": "https://localhost:8080/"
        },
        "outputId": "cb5916d4-767b-4bc8-c263-20420dc173a7"
      },
      "source": [
        "def is_odd(a):\n",
        "    return a % 2 == 0\n",
        "\n",
        "is_odd(2)"
      ],
      "execution_count": null,
      "outputs": [
        {
          "output_type": "execute_result",
          "data": {
            "text/plain": [
              "True"
            ]
          },
          "metadata": {
            "tags": []
          },
          "execution_count": 102
        }
      ]
    },
    {
      "cell_type": "markdown",
      "metadata": {
        "id": "lPhb-mFxxNNp"
      },
      "source": [
        "Functions can be defined inside functions"
      ]
    },
    {
      "cell_type": "code",
      "metadata": {
        "id": "VYbAIDuBxRne"
      },
      "source": [
        "def is_odd(a):\n",
        "    \n",
        "    def is_divisible(number, base):\n",
        "        return number % base == 0\n",
        "    \n",
        "    return is_divisible(a, 2)\n",
        "\n",
        "is_odd(2)\n",
        "is_divisible(6, 5)"
      ],
      "execution_count": null,
      "outputs": []
    },
    {
      "cell_type": "markdown",
      "metadata": {
        "id": "Hoh9vryhxckA"
      },
      "source": [
        "You can provide default arguments."
      ]
    },
    {
      "cell_type": "code",
      "metadata": {
        "id": "SbjDzfrVfmF6"
      },
      "source": [
        "def add_or_subtract(first, second, operation=\"sum\"):\n",
        "    if operation == \"sum\":\n",
        "        return first + second\n",
        "    elif operation == \"sub\":\n",
        "        return first - second\n",
        "    else:\n",
        "        print(\"Operation not permitted\")\n",
        "        \n",
        "add_or_subtract(first=3, second=4, operation=\"sum\")"
      ],
      "execution_count": null,
      "outputs": []
    },
    {
      "cell_type": "markdown",
      "metadata": {
        "id": "1Lp6YB6fxqpP"
      },
      "source": [
        "Varargs: variable size arguments"
      ]
    },
    {
      "cell_type": "code",
      "metadata": {
        "id": "181garp6xsKA"
      },
      "source": [
        "def sum_all(*args):\n",
        "    # args is a list of arguments\n",
        "    result = 0\n",
        "    for arg in args:\n",
        "        result += arg\n",
        "    return result\n",
        "\n",
        "# Call vararg function\n",
        "print(\"Sum of all integers up to 10 =\", sum_all(1, 2, 3, 4, 5, 6, 7, 8, 9))"
      ],
      "execution_count": null,
      "outputs": []
    },
    {
      "cell_type": "markdown",
      "metadata": {
        "id": "dmKKnwyox7Ai"
      },
      "source": [
        "Keyword arguments"
      ]
    },
    {
      "cell_type": "code",
      "metadata": {
        "id": "WJPliTlnx92u"
      },
      "source": [
        "def print_pairs(**kwargs):\n",
        "    # kwargs is a map\n",
        "    for k, v in kwargs.items():\n",
        "        print(k, v)\n",
        "        \n",
        "print_pairs(a=1, b=2)"
      ],
      "execution_count": null,
      "outputs": []
    },
    {
      "cell_type": "markdown",
      "metadata": {
        "id": "51bg23Fmx-6b"
      },
      "source": [
        "Keyword only arguments"
      ]
    },
    {
      "cell_type": "code",
      "metadata": {
        "id": "RqZwL6WHyHPN"
      },
      "source": [
        "def create_car(*, speed, size):\n",
        "    print(\"Car created with speed\", speed, \"and size\", size)\n",
        "    \n",
        "create_car(speed=9, size=3)"
      ],
      "execution_count": null,
      "outputs": []
    },
    {
      "cell_type": "markdown",
      "metadata": {
        "id": "k3Y-h7EAyYhS"
      },
      "source": [
        "Functions as parameters\n",
        "\n",
        "It is possible to pass a function as an argument, operation here is assumed to be a function"
      ]
    },
    {
      "cell_type": "code",
      "metadata": {
        "id": "b_JDJT_6mrqu"
      },
      "source": [
        "def reduce(array, operation):\n",
        "    result = 0\n",
        "    for k, v in enumerate(array):\n",
        "        if k == 0:\n",
        "            result = v\n",
        "        else:\n",
        "            result = operation(v, result)\n",
        "  \n",
        "    return result"
      ],
      "execution_count": null,
      "outputs": []
    },
    {
      "cell_type": "markdown",
      "metadata": {
        "id": "X43dSGaQzHye"
      },
      "source": [
        "Apply the function with another function `add_or_subtract`\n"
      ]
    },
    {
      "cell_type": "code",
      "metadata": {
        "id": "6rE5TSZRzFWW"
      },
      "source": [
        "one_to_nine = [1, 2, 3, 4, 5, 6, 7, 8, 9]\n",
        "print(one_to_nine)\n",
        "\n",
        "print(\"Sum of the array\")\n",
        "#The operation is infered from the default parameter of add_or_subtract\n",
        "reduce(one_to_nine, add_or_subtract)"
      ],
      "execution_count": null,
      "outputs": []
    },
    {
      "cell_type": "markdown",
      "metadata": {
        "id": "8tiErQ4PzdFH"
      },
      "source": [
        "Lambdas\n",
        "\n",
        "A function can also be defined anonymously"
      ]
    },
    {
      "cell_type": "code",
      "metadata": {
        "id": "a8bWni3hzadd"
      },
      "source": [
        "print(\"Product of the array\")\n",
        "reduce(one_to_nine, lambda x, y : x * y)"
      ],
      "execution_count": null,
      "outputs": []
    },
    {
      "cell_type": "code",
      "metadata": {
        "id": "8ZIc2R_wlf3H"
      },
      "source": [
        "mul = lambda x, y : x * y"
      ],
      "execution_count": null,
      "outputs": []
    },
    {
      "cell_type": "code",
      "metadata": {
        "colab": {
          "base_uri": "https://localhost:8080/"
        },
        "id": "7SxnwQGCli23",
        "outputId": "a8671d44-1251-4cf4-f1c7-a7a6cf3c8aa9"
      },
      "source": [
        "mul(5,6)"
      ],
      "execution_count": null,
      "outputs": [
        {
          "output_type": "execute_result",
          "data": {
            "text/plain": [
              "30"
            ]
          },
          "metadata": {
            "tags": []
          },
          "execution_count": 104
        }
      ]
    },
    {
      "cell_type": "markdown",
      "metadata": {
        "id": "8rBsR8TgzkhS"
      },
      "source": [
        "Closures\n",
        "\n",
        "A function can return another function with specific behaviours depending on the arguments"
      ]
    },
    {
      "cell_type": "code",
      "metadata": {
        "id": "NQ9l5wxZm4SV"
      },
      "source": [
        "def get_loss(op_reduce, op_foreach):\n",
        "    \n",
        "    def loss(a, b):\n",
        "        c = []\n",
        "        for av, bv in zip(a, b):\n",
        "            c.append(op_foreach(av, bv))\n",
        "        return op_reduce(c)\n",
        "  \n",
        "    return loss"
      ],
      "execution_count": null,
      "outputs": []
    },
    {
      "cell_type": "markdown",
      "metadata": {
        "id": "-L5B35yEz4Ic"
      },
      "source": [
        "This function can help to define mean squared error"
      ]
    },
    {
      "cell_type": "code",
      "metadata": {
        "id": "w4a2_Al4z4qW"
      },
      "source": [
        "mse_loss = get_loss(lambda x : sum(x) / len(x), \n",
        "                    lambda a, b : (a - b) ** 2)"
      ],
      "execution_count": null,
      "outputs": []
    },
    {
      "cell_type": "markdown",
      "metadata": {
        "id": "jXVJNuY40ARh"
      },
      "source": [
        "Or mean absolute error"
      ]
    },
    {
      "cell_type": "code",
      "metadata": {
        "id": "MYcFxRq70A4K"
      },
      "source": [
        "mae_loss = get_loss(lambda x : sum(x) / len(x), \n",
        "                    lambda a, b : abs(a - b))"
      ],
      "execution_count": null,
      "outputs": []
    },
    {
      "cell_type": "markdown",
      "metadata": {
        "id": "FDKP5V-c0GY8"
      },
      "source": [
        "We can check that it works as intended"
      ]
    },
    {
      "cell_type": "code",
      "metadata": {
        "id": "oYIyTRmN0G6r"
      },
      "source": [
        "list1 = [0, 1, 1, 3, 0, 2, 3]\n",
        "list2 = [1, 1, 2, 0, 0, 2, 3]\n",
        "\n",
        "list_mse = mse_loss(list1, list2)\n",
        "list_mae = mae_loss(list1, list2)\n",
        "\n",
        "print(\"Two lists:\\n\", list1, \"\\n\", list2)\n",
        "print(\"MSE Loss: {}\\nMAE Loss: {}\".format(list_mse, list_mae))"
      ],
      "execution_count": null,
      "outputs": []
    },
    {
      "cell_type": "markdown",
      "metadata": {
        "id": "LoPGG5zNAjoU"
      },
      "source": [
        "## Exceptions"
      ]
    },
    {
      "cell_type": "code",
      "metadata": {
        "id": "eYsGH9tQAlHr"
      },
      "source": [
        "# Throw exception\n",
        "def bar():\n",
        "    foo()\n",
        "\n",
        "def foo():\n",
        "    1 / 0\n",
        "    \n",
        "bar()"
      ],
      "execution_count": null,
      "outputs": []
    },
    {
      "cell_type": "code",
      "metadata": {
        "id": "IwpCXA3nA3Ap"
      },
      "source": [
        "# Catch exceptions\n",
        "try:\n",
        "    raise ValueError\n",
        "except ValueError:\n",
        "    print(\"Do something else\")\n",
        "finally:\n",
        "    print(\"This part runs always. It is useful for closing files or \"\n",
        "          \"releasing other resources\")"
      ],
      "execution_count": null,
      "outputs": []
    },
    {
      "cell_type": "markdown",
      "metadata": {
        "id": "dDIyMgbp6YXt"
      },
      "source": [
        "## Asserts"
      ]
    },
    {
      "cell_type": "code",
      "metadata": {
        "id": "D88FRB-16cnd"
      },
      "source": [
        "# Do sanity checks to make sure your code is behaving as expected\n",
        "a = 1\n",
        "assert a + a == 2"
      ],
      "execution_count": null,
      "outputs": []
    },
    {
      "cell_type": "code",
      "metadata": {
        "id": "081dN-A76nuD"
      },
      "source": [
        "# This raises an exception\n",
        "a = 2\n",
        "assert a + a == 2"
      ],
      "execution_count": null,
      "outputs": []
    },
    {
      "cell_type": "markdown",
      "metadata": {
        "id": "p1cOGDXHCR-O"
      },
      "source": [
        "## Classes"
      ]
    },
    {
      "cell_type": "markdown",
      "metadata": {
        "id": "r-PruhWd02K0"
      },
      "source": [
        "Class definition"
      ]
    },
    {
      "cell_type": "code",
      "metadata": {
        "id": "IRXa51OfCPEk"
      },
      "source": [
        "class Shape:\n",
        "    pass"
      ],
      "execution_count": null,
      "outputs": []
    },
    {
      "cell_type": "markdown",
      "metadata": {
        "id": "y93ArCva06GI"
      },
      "source": [
        "`shape` is an object of class `Shape`"
      ]
    },
    {
      "cell_type": "code",
      "metadata": {
        "id": "0m2SgTiS06tB"
      },
      "source": [
        "shape = Shape()\n",
        "type(shape)"
      ],
      "execution_count": null,
      "outputs": []
    },
    {
      "cell_type": "markdown",
      "metadata": {
        "id": "F6zvhV8H1BVA"
      },
      "source": [
        "In legacy python we used to write\n",
        "```python\n",
        "class Shape(object):\n",
        "```\n",
        "This is not needed anymore \n",
        "unless you expect someone to run you code in legacy environment"
      ]
    },
    {
      "cell_type": "markdown",
      "metadata": {
        "id": "C-Kvdhg41Ju3"
      },
      "source": [
        "More on class definitions"
      ]
    },
    {
      "cell_type": "code",
      "metadata": {
        "id": "1tCXVcPAB4YQ"
      },
      "source": [
        "class Shape:\n",
        "    class_field = 9\n",
        "    \n",
        "    def __init__(self, name):\n",
        "        self.name = name\n",
        "        self.value = 42\n",
        "    \n",
        "    def method(self, a):\n",
        "        return a * 2 + self.value\n",
        "    \n",
        "shape = Shape(\"name\")\n",
        "shape.method(7)"
      ],
      "execution_count": null,
      "outputs": []
    },
    {
      "cell_type": "markdown",
      "metadata": {
        "id": "dKU0asYuazOF"
      },
      "source": [
        "## Imports\n",
        "\n",
        "Adding new packages in python is very easy and many packages are available from the box. If you want some library, there is a good chance that someone else wrote it already.\n",
        "\n",
        "Generally, import statement looks like"
      ]
    },
    {
      "cell_type": "code",
      "metadata": {
        "id": "VFeYVIqocjsm"
      },
      "source": [
        "import time\n",
        "\n",
        "time.time()"
      ],
      "execution_count": null,
      "outputs": []
    },
    {
      "cell_type": "markdown",
      "metadata": {
        "id": "0pNMsOuJctzb"
      },
      "source": [
        "You can specify what parts of the package you want to import"
      ]
    },
    {
      "cell_type": "code",
      "metadata": {
        "id": "jfy8OQqwcr0A"
      },
      "source": [
        "from time import time, sleep\n",
        "\n",
        "print(time())\n",
        "sleep(2)\n",
        "print(time())"
      ],
      "execution_count": null,
      "outputs": []
    },
    {
      "cell_type": "markdown",
      "metadata": {
        "id": "1XOUcES3U_7g"
      },
      "source": [
        "## List comprehensions"
      ]
    },
    {
      "cell_type": "code",
      "metadata": {
        "id": "2ii1YsF1VFQt",
        "colab": {
          "base_uri": "https://localhost:8080/"
        },
        "outputId": "d0cacb69-cbf0-4218-a297-f15ed59b2f3a"
      },
      "source": [
        "[i + 1 for i in [1, 2, 3]]"
      ],
      "execution_count": null,
      "outputs": [
        {
          "output_type": "execute_result",
          "data": {
            "text/plain": [
              "[2, 3, 4]"
            ]
          },
          "metadata": {
            "tags": []
          },
          "execution_count": 106
        }
      ]
    },
    {
      "cell_type": "markdown",
      "metadata": {
        "id": "sP1oejrKVUIo"
      },
      "source": [
        "It works with dictionaries too"
      ]
    },
    {
      "cell_type": "code",
      "metadata": {
        "id": "adCDsD7CVOXi",
        "colab": {
          "base_uri": "https://localhost:8080/"
        },
        "outputId": "f3fbdb79-d02f-4f84-f6b2-f8dd93f99c1a"
      },
      "source": [
        "{i: i + 1 for i in [1, 2, 3]}"
      ],
      "execution_count": null,
      "outputs": [
        {
          "output_type": "execute_result",
          "data": {
            "text/plain": [
              "{1: 2, 2: 3, 3: 4}"
            ]
          },
          "metadata": {
            "tags": []
          },
          "execution_count": 105
        }
      ]
    },
    {
      "cell_type": "markdown",
      "metadata": {
        "id": "mSBeBMM-Vi-z"
      },
      "source": [
        "## Other useful features"
      ]
    },
    {
      "cell_type": "markdown",
      "metadata": {
        "id": "LrQ4hw8KVliz"
      },
      "source": [
        "Multiple assignment"
      ]
    },
    {
      "cell_type": "code",
      "metadata": {
        "id": "xq5p8zc9VqW8"
      },
      "source": [
        "a, b = b, a"
      ],
      "execution_count": null,
      "outputs": []
    },
    {
      "cell_type": "markdown",
      "metadata": {
        "id": "8M8zrRNkVuHM"
      },
      "source": [
        "It works with any kind of list-like objects!"
      ]
    },
    {
      "cell_type": "code",
      "metadata": {
        "id": "bKPgc-E2Vxfp"
      },
      "source": [
        "a, b = [10, 11]"
      ],
      "execution_count": null,
      "outputs": []
    },
    {
      "cell_type": "markdown",
      "metadata": {
        "id": "rXH3h0TVVz8r"
      },
      "source": [
        "Starred assignment expressions"
      ]
    },
    {
      "cell_type": "code",
      "metadata": {
        "id": "ydvlwtxOV819"
      },
      "source": [
        "a, *b = [1, 2, 3, 4]\n",
        "print(b)"
      ],
      "execution_count": null,
      "outputs": []
    },
    {
      "cell_type": "code",
      "metadata": {
        "id": "4qAKpJe7xWPu"
      },
      "source": [
        "a, b, *c = [1, 2, 3, 4]\n",
        "print(c)"
      ],
      "execution_count": null,
      "outputs": []
    },
    {
      "cell_type": "markdown",
      "metadata": {
        "id": "FZ4l0DS_WB5-"
      },
      "source": [
        "This works for prefixes and sufixes"
      ]
    },
    {
      "cell_type": "code",
      "metadata": {
        "id": "eX2_V2CRWHLh"
      },
      "source": [
        "*a, b, c = [1, 2, 3, 4]\n",
        "print(a)"
      ],
      "execution_count": null,
      "outputs": []
    },
    {
      "cell_type": "markdown",
      "metadata": {
        "id": "Dqki5Kut9Tqm"
      },
      "source": [
        "The `pass` statement does nothing! It is useful for declaring an empty function or loop"
      ]
    },
    {
      "cell_type": "code",
      "metadata": {
        "id": "r6c37_RO9bqu"
      },
      "source": [
        "# Nothing to see here!\n",
        "pass"
      ],
      "execution_count": null,
      "outputs": []
    },
    {
      "cell_type": "code",
      "metadata": {
        "id": "9PhQovxy9dEt"
      },
      "source": [
        "# This is OK:\n",
        "def some_function():\n",
        "  pass # TODO"
      ],
      "execution_count": null,
      "outputs": []
    },
    {
      "cell_type": "code",
      "metadata": {
        "id": "WhHee8Xl9ghF"
      },
      "source": [
        "# This raises an error:\n",
        "def some_function():\n",
        "  # TODO  "
      ],
      "execution_count": null,
      "outputs": []
    },
    {
      "cell_type": "markdown",
      "metadata": {
        "id": "fLy-KY4qOx1b"
      },
      "source": [
        "`timit`\n"
      ]
    },
    {
      "cell_type": "code",
      "metadata": {
        "id": "UoL_-X7MOw8v"
      },
      "source": [
        "import timeit\n",
        "\n",
        "time_1 = timeit.timeit(setup='import math; array = [i for i in range(1,501)]',stmt='[math.sqrt(x) for x in array]', number=10000) \n",
        "time_2 = timeit.timeit(setup='import math; array = [i for i in range(1,51)]',stmt='[math.sqrt(x) for x in array]', number=10000) \n",
        "\n",
        "print('time_1 = ',time_1,' s')\n",
        "print('time_2 = ',time_2,' s')\n",
        "\n",
        "print(\"Difference  = {:.3f} s\".format(time_1-time_2))\n",
        "print(\"Speedup    = {:.3f} x\".format(time_1/time_2))\n",
        "print(\"% Difference = {:.3f}%\".format((time_1-time_2)*100/time_1))"
      ],
      "execution_count": null,
      "outputs": []
    },
    {
      "cell_type": "code",
      "metadata": {
        "id": "qLraDFU4O8B8"
      },
      "source": [
        "[range(25)]"
      ],
      "execution_count": null,
      "outputs": []
    },
    {
      "cell_type": "markdown",
      "metadata": {
        "id": "0Ss0cFrlTtq4"
      },
      "source": [
        "##Additional Exercises\n",
        "[More exercises can be forund here](https://pynative.com/python-exercises-with-solutions/)"
      ]
    },
    {
      "cell_type": "markdown",
      "metadata": {
        "id": "bC6Lbt0g5WW0"
      },
      "source": [
        "## Exercise 1\n",
        "Write a function that generates a Python list of all the even numbers between `a` and `b`, inclusively"
      ]
    },
    {
      "cell_type": "code",
      "metadata": {
        "id": "L4XGi3Fr6Bjf"
      },
      "source": [
        "def even_numbers(a, b):\n",
        "  pass # TODO"
      ],
      "execution_count": null,
      "outputs": []
    },
    {
      "cell_type": "markdown",
      "metadata": {
        "id": "eOm12O8g7py6"
      },
      "source": [
        "## Exercise 2\n",
        "\n",
        "Write a function that returns the largest integer from the given list"
      ]
    },
    {
      "cell_type": "code",
      "metadata": {
        "id": "hON3mr-07ucF"
      },
      "source": [
        "def find_largest(input):\n",
        "  pass # TODO"
      ],
      "execution_count": null,
      "outputs": []
    },
    {
      "cell_type": "markdown",
      "metadata": {
        "id": "cUE9SvlVdc4_"
      },
      "source": [
        "## Exercise 3\n",
        "\n",
        "Write a function that samples a uniform random number from `a` to `b`.\n",
        "\n",
        "Use function `random.random` from package `random`. Documentation is available [here](https://docs.python.org/3.7/library/random.html)"
      ]
    },
    {
      "cell_type": "code",
      "metadata": {
        "id": "Jy7ND3SRkeCj"
      },
      "source": [
        "import random\n",
        "\n",
        "def sample_uniform(a, b):\n",
        "  pass # TODO"
      ],
      "execution_count": null,
      "outputs": []
    },
    {
      "cell_type": "markdown",
      "metadata": {
        "id": "p7CIN4iWr3tx"
      },
      "source": [
        "## Exercise 4\n",
        "\n",
        "Write a function that creates a list of length `n` of samples like in Exercise 3."
      ]
    },
    {
      "cell_type": "code",
      "metadata": {
        "id": "_UFZLC4ssAm1"
      },
      "source": [
        "def generate_samples(n):\n",
        "  pass # TODO"
      ],
      "execution_count": null,
      "outputs": []
    },
    {
      "cell_type": "markdown",
      "metadata": {
        "id": "bDNxuKNHsI-L"
      },
      "source": [
        "## Exercise 5\n",
        "\n",
        "Write a function that takes two lists `list1` and `list2` and merges them without repeating the elements in both lists. Time your computation for different lengths 5, 500 and 5000."
      ]
    },
    {
      "cell_type": "code",
      "metadata": {
        "id": "vhsHU8qXsH50"
      },
      "source": [
        "def compute_average(nums):\n",
        "  pass # TODO"
      ],
      "execution_count": null,
      "outputs": []
    },
    {
      "cell_type": "markdown",
      "metadata": {
        "id": "4RS0grGJsUsK"
      },
      "source": [
        "## Exercise 6\n",
        "\n",
        "Write a function that creates `m` lists like in Exercise 4 and computes average of each list"
      ]
    },
    {
      "cell_type": "code",
      "metadata": {
        "id": "CCl07aGwsTqY"
      },
      "source": [
        "def generate_averages(m):\n",
        "  pass # TODO"
      ],
      "execution_count": null,
      "outputs": []
    },
    {
      "cell_type": "markdown",
      "metadata": {
        "id": "hg4dQwuJLnIJ"
      },
      "source": [
        "### REFERENCES (EN)\n",
        "\n",
        "https://developers.google.com/edu/python)\n",
        "\n",
        "https://www.sololearn.com/Course/Python/\n",
        "\n",
        "https://www.learnpython.org/\n",
        "\n",
        "https://www.datacamp.com/courses/intro-to-python-for-data-science\n",
        "\n",
        "https://www.w3schools.com/python/"
      ]
    },
    {
      "cell_type": "markdown",
      "metadata": {
        "id": "YrCEfH0RL5nO"
      },
      "source": [
        "## REFERENCES (FR)\n",
        "\n",
        "https://docs.python.org/fr/3/tutorial/\n",
        "\n",
        "https://openclassrooms.com/fr/courses/4262331-demarrez-votre-projet-avec-python\n",
        "\n",
        "https://python.doctor/\n",
        "\n",
        "https://zestedesavoir.com/tutoriels/799/apprendre-a-programmer-avec-python-3/\n"
      ]
    }
  ]
}